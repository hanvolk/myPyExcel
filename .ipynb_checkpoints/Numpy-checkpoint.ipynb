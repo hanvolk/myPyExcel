{
 "cells": [
  {
   "cell_type": "markdown",
   "metadata": {},
   "source": [
    "## Numpy를 이용한 배열 데이터의 생성"
   ]
  },
  {
   "cell_type": "code",
   "execution_count": 4,
   "metadata": {},
   "outputs": [
    {
     "name": "stdout",
     "output_type": "stream",
     "text": [
      "[10 20 30 40]\n",
      "[1 2 3 4]\n",
      "['abc' 'def' '123']\n",
      "[11 22 33 44]\n",
      "[11 22 33 44]\n"
     ]
    }
   ],
   "source": [
    "import numpy as np\n",
    "arr1=np.array([5,2,3,10,7])\n",
    "\n",
    "lst_data=[1,2,3,4]\n",
    "str_lst=['abc','def','123']\n",
    "\n",
    "# List Data 로 부터 배열을 생성\n",
    "arr1=np.array([10,20,30,40]) \n",
    "arr2=np.array(lst_data)\n",
    "arr3=np.array(str_lst)\n",
    "arr4=arr1+arr2\n",
    "\n",
    "print(arr1)\n",
    "print(arr2)\n",
    "print(arr3)\n",
    "print(arr4)\n",
    "print(arr1+arr2)\n",
    "# print(arr1+arr3)   # arr1 : 숫자,  arr3 : 문자열   "
   ]
  },
  {
   "cell_type": "markdown",
   "metadata": {},
   "source": [
    "## Numpy로 이중 배열 데이터 생성"
   ]
  },
  {
   "cell_type": "markdown",
   "metadata": {},
   "source": [
    "### f-string : 문자열에서 특정 부분만 바꾸고 나머지 부분은 일정하다고 할때 사용할 수 있는 print() 의 새로운 서식 문자로 python 3.6 부터 사용 가능 \n",
    "- 문자열 맨 앞에(따옴표앞) f를 붙인후 ==>  f\" \"\n",
    "- 사용하고 싶은 변수, 값을 중괄호 안에 넣는다  .==>  f\" {변수} \"\n",
    "- https://blockdmask.tistory.com/429"
   ]
  },
  {
   "cell_type": "code",
   "execution_count": 36,
   "metadata": {},
   "outputs": [
    {
     "name": "stdout",
     "output_type": "stream",
     "text": [
      "arr1 : \n",
      "[[10 20 30]\n",
      " [40 50 60]]\n",
      "arr1[0,0]:10 | arr1[0,1]:20 | arr1[0,2]:30 | \n",
      "arr1[1,0]:40 | arr1[1,1]:50 | arr1[1,2]:60 | \n"
     ]
    }
   ],
   "source": [
    "import numpy as np\n",
    "\n",
    "lst_data=[[10,20,30],[40,50,60]]\n",
    "arr1=np.array(lst_data)\n",
    "print(\"arr1 : \")\n",
    "print(arr1)\n",
    "\n",
    "for i in range(2):\n",
    "    for j in range(3):        \n",
    "        print(f\"arr1[{i},{j}]:{arr1[i,j]} | \",end='')\n",
    "    print()\n",
    "       \n",
    "\n"
   ]
  },
  {
   "cell_type": "markdown",
   "metadata": {},
   "source": [
    "## arange로 배열 생성 : (시작값, 종료값, 단계값)\n",
    "### 시작값 : 0, 단계값 : 1  이 기본값 이며 생략 가능, 종료값은 미만값으로 포함되지 않는다"
   ]
  },
  {
   "cell_type": "code",
   "execution_count": 3,
   "metadata": {},
   "outputs": [
    {
     "name": "stdout",
     "output_type": "stream",
     "text": [
      "[ 0  3  6  9 12 15 18]\n",
      "[0 1 2 3 4 5 6 7 8 9]\n",
      "[0 1 2 3 4 5 6 7 8 9]\n"
     ]
    }
   ],
   "source": [
    "import numpy as np\n",
    "\n",
    "arr1=np.arange(0,20,3)  # 시작값 : 0  종료값 : 20   단계값 : 3\n",
    "arr2=np.arange(0,10)    #  시작값 : 0   종료값 : 10  (단계값 : 1)\n",
    "arr3=np.arange(10)      #  (시작값 : 0)  종료값 : 10  (단계값 : 1)\n",
    "\n",
    "print(arr1)\n",
    "print(arr2)\n",
    "print(arr3)"
   ]
  },
  {
   "cell_type": "markdown",
   "metadata": {},
   "source": [
    "## linspace(시작값, 종료값, 배열원소의 개수)\n",
    "### 시작값 ~ 종료값 사이에 배열원소의 갯수 만큼의 요소를 가지는 배열을 생성"
   ]
  },
  {
   "cell_type": "code",
   "execution_count": 4,
   "metadata": {},
   "outputs": [
    {
     "data": {
      "text/plain": [
       "array([  0.,  25.,  50.,  75., 100.])"
      ]
     },
     "execution_count": 4,
     "metadata": {},
     "output_type": "execute_result"
    }
   ],
   "source": [
    "import numpy as np\n",
    "arr1=np.linspace(0,100,5) # 0~100 사이의 정수에서, 5개의 원소를 가지는 배열을 생성\n",
    "arr1\n"
   ]
  },
  {
   "cell_type": "markdown",
   "metadata": {},
   "source": [
    "## shape  :  배열의 형태를 반환"
   ]
  },
  {
   "cell_type": "code",
   "execution_count": 3,
   "metadata": {},
   "outputs": [
    {
     "name": "stdout",
     "output_type": "stream",
     "text": [
      "(6,)\n",
      "(4,)\n",
      "(2, 3)\n"
     ]
    }
   ],
   "source": [
    "import numpy as np\n",
    "arr1=np.array([0,1,2,3,4,5])      # 6개의 원소를 가진 1차원 배열\n",
    "arr2=np.array([0,1,2,3])          # 4개의 원소를 가진 1차원 배열\n",
    "arr3=np.array([[1,2,3],[4,5,6]])  # 2행 3열의 2차원 배열\n",
    "\n",
    "print(arr1.shape)\n",
    "print(arr2.shape)\n",
    "print(arr3.shape)"
   ]
  },
  {
   "cell_type": "markdown",
   "metadata": {},
   "source": [
    "## reshape() : 배열의 형태를 재구성 해서 반환\n",
    "### 원래 배열의 형태는 그대로, 반환되는 배열의 형태가 변경 되는 것 ~!"
   ]
  },
  {
   "cell_type": "code",
   "execution_count": 6,
   "metadata": {},
   "outputs": [
    {
     "name": "stdout",
     "output_type": "stream",
     "text": [
      "[1 2 3 4 5 6]\n",
      "[[1 2 3]\n",
      " [4 5 6]]\n"
     ]
    }
   ],
   "source": [
    "import numpy as np\n",
    "arr1=np.array([1,2,3,4,5,6])\n",
    "arr2=arr1.reshape(2,3)          # arr1 을  2행 3열의 2차원 배열로 재구성 , arr1은 여전히 6개의 원소를 지닌 1차원 배열 이다. \n",
    "print(arr1)\n",
    "print(arr2)"
   ]
  },
  {
   "cell_type": "markdown",
   "metadata": {},
   "source": [
    "### reshape() 다양한 형태 : reshape(m,n) 형태에서, m 이나 n 하나만 값을 주고, 다른 하나는 '-1' 을 주면, \n",
    "### 배열의 길이에 따라서 배열의 형태를 자동으로 계산 해 준다. "
   ]
  },
  {
   "cell_type": "code",
   "execution_count": 7,
   "metadata": {},
   "outputs": [
    {
     "name": "stdout",
     "output_type": "stream",
     "text": [
      "[[1 2 3]\n",
      " [4 5 6]]\n",
      "[[1 2]\n",
      " [3 4]\n",
      " [5 6]]\n",
      "[[1 2]\n",
      " [3 4]\n",
      " [5 6]]\n",
      "[[1 2 3]\n",
      " [4 5 6]]\n"
     ]
    }
   ],
   "source": [
    "import numpy as np\n",
    "arr1=np.array([1,2,3,4,5,6])\n",
    "\n",
    "arr2=arr1.reshape(2,-1)    # 행을 2개로 고정 열은 reshape() 함수가 알아서 계산\n",
    "arr3=arr1.reshape(3,-1)    # 행을 3개로 고정 열은 reshape() 함수가 알아서 계산\n",
    "\n",
    "arr4=arr1.reshape(-1,2)    # 열을 2개로 고정 행은 reshape() 함수가 알아서 계산\n",
    "arr5=arr1.reshape(-1,3)    # 열을 3개로 고정 행은 reshape() 함수가 알아서 계산\n",
    "\n",
    "print(arr2)\n",
    "print(arr3)\n",
    "print(arr4)\n",
    "print(arr5)\n"
   ]
  },
  {
   "cell_type": "markdown",
   "metadata": {},
   "source": [
    "## 배열의 데이터 타입 :  배열명.dtype\n",
    "### np.array() 로 배열을 생성할때, 지정하능 하며, 지정하지 않으면 자동으로 지정 된다.\n",
    "#### bool, int, uint(부호없는 정수), float(실수), complex(복소수), U(유니코드), O(파이썬객체) , M(날짜,시간)"
   ]
  },
  {
   "cell_type": "code",
   "execution_count": 8,
   "metadata": {},
   "outputs": [
    {
     "name": "stdout",
     "output_type": "stream",
     "text": [
      "int32\n",
      "bool\n",
      "float64\n",
      "<U4\n"
     ]
    }
   ],
   "source": [
    "import numpy as np\n",
    "arr1=np.array([1,2,3,4,5,6])               # int32\n",
    "arr2=np.array([True,False])               # bool\n",
    "arr3=np.array([1.0, 2.0, 3.0, 4.0, 5.0])    # float64\n",
    "arr4=np.array(['note', 'py'])               # <u4  (유니코드이며, 문자열 최대 길이가 4)\n",
    "\n",
    "print(arr1.dtype)\n",
    "print(arr2.dtype)\n",
    "print(arr3.dtype)\n",
    "print(arr4.dtype)"
   ]
  },
  {
   "cell_type": "markdown",
   "metadata": {},
   "source": [
    "### 배열의 데이터 타입 변경 :  배열명.astype(np.데이터형)"
   ]
  },
  {
   "cell_type": "code",
   "execution_count": 5,
   "metadata": {
    "scrolled": true
   },
   "outputs": [
    {
     "name": "stdout",
     "output_type": "stream",
     "text": [
      "arr1.dtype :  int32 \t [1 2 3 4 5 6]\n",
      "arr2.dtype :  float64 \t [1. 2. 3. 4. 5. 6.]\n",
      "arr3.dtype :  float64 \t [  3.14   5.75  10.   123.45  43.21]\n",
      "arr4.dtype :  int32 \t [  3   5  10 123  43]\n"
     ]
    },
    {
     "name": "stderr",
     "output_type": "stream",
     "text": [
      "C:\\Users\\Public\\Documents\\ESTsoft\\CreatorTemp/ipykernel_3576/3950441051.py:3: DeprecationWarning: `np.float` is a deprecated alias for the builtin `float`. To silence this warning, use `float` by itself. Doing this will not modify any behavior and is safe. If you specifically wanted the numpy scalar type, use `np.float64` here.\n",
      "Deprecated in NumPy 1.20; for more details and guidance: https://numpy.org/devdocs/release/1.20.0-notes.html#deprecations\n",
      "  arr2=arr1.astype(np.float)    #  arr1을 float으로 변경 시켜서 arr2에 저장(arr1의 데이터 형이 변하는 것은 아니다.)\n",
      "C:\\Users\\Public\\Documents\\ESTsoft\\CreatorTemp/ipykernel_3576/3950441051.py:8: DeprecationWarning: `np.int` is a deprecated alias for the builtin `int`. To silence this warning, use `int` by itself. Doing this will not modify any behavior and is safe. When replacing `np.int`, you may wish to use e.g. `np.int64` or `np.int32` to specify the precision. If you wish to review your current use, check the release note link for additional information.\n",
      "Deprecated in NumPy 1.20; for more details and guidance: https://numpy.org/devdocs/release/1.20.0-notes.html#deprecations\n",
      "  arr4=arr3.astype(np.int)\n"
     ]
    }
   ],
   "source": [
    "import numpy as np\n",
    "arr1=np.array([1,2,3,4,5,6])  # int32형 배열 arr1\n",
    "arr2=arr1.astype(np.float)    #  arr1을 float으로 변경 시켜서 arr2에 저장(arr1의 데이터 형이 변하는 것은 아니다.)\n",
    "print(\"arr1.dtype : \",arr1.dtype,\"\\t\",arr1)  # arr1의 DataType은 여전히 int32\n",
    "print(\"arr2.dtype : \",arr2.dtype,\"\\t\",arr2)  # arr2의 DataType은 float64\n",
    "\n",
    "arr3=np.array([3.14, 5.75, 10.0, 123.45, 43.21])\n",
    "arr4=arr3.astype(np.int)\n",
    "print(\"arr3.dtype : \",arr3.dtype,\"\\t\",arr3)\n",
    "print(\"arr4.dtype : \",arr4.dtype,\"\\t\",arr4)"
   ]
  },
  {
   "cell_type": "markdown",
   "metadata": {},
   "source": [
    "### 배열의 연산\n",
    "#### 배열의 이항 연산 : 동일한 길이 이어야 하며 (+ , - , × ,  ÷ ) 등의 사칙연산이 가능"
   ]
  },
  {
   "cell_type": "code",
   "execution_count": 10,
   "metadata": {},
   "outputs": [
    {
     "name": "stdout",
     "output_type": "stream",
     "text": [
      "[[11 22 33]\n",
      " [44 55 66]]\n",
      "------------\n",
      "[[ 9 18 27]\n",
      " [36 45 54]]\n",
      "------------\n",
      "[[ 10  40  90]\n",
      " [160 250 360]]\n",
      "------------\n",
      "[[10. 10. 10.]\n",
      " [10. 10. 10.]]\n"
     ]
    }
   ],
   "source": [
    "import numpy as np\n",
    "arr1=np.array([[10,20,30],[40,50,60]])\n",
    "arr2=np.array([[1,2,3], [4,5,6]])\n",
    "print(arr1+arr2)\n",
    "print(\"------------\")\n",
    "print(arr1-arr2)\n",
    "print(\"------------\")\n",
    "print(arr1*arr2)\n",
    "print(\"------------\")\n",
    "print(arr1/arr2)"
   ]
  },
  {
   "cell_type": "markdown",
   "metadata": {},
   "source": [
    "### Broadcasting(브로드캐스팅) : Numpy 는 기본적으로 배열의 형태가 다르면 연산을 할 수 없지만, 특정 조건을 만족하면 작은형태의 배열이 확장되어 연산을 수행할 수 있게 해주는 것으로 브로드캐스팅의 한 예가 배열과 상수의 연산이다. "
   ]
  },
  {
   "cell_type": "code",
   "execution_count": 11,
   "metadata": {},
   "outputs": [
    {
     "name": "stdout",
     "output_type": "stream",
     "text": [
      "arr1 : \n",
      " [0 1 2]\n",
      "arr2 : \n",
      " [[10]\n",
      " [20]\n",
      " [30]]\n",
      "[[10 11 12]\n",
      " [20 21 22]\n",
      " [30 31 32]]\n",
      "[3 4 5]\n",
      "[[1.]\n",
      " [2.]\n",
      " [3.]]\n",
      "[[100]\n",
      " [400]\n",
      " [900]]\n",
      "[False  True  True]\n",
      "[[False]\n",
      " [ True]\n",
      " [ True]]\n"
     ]
    }
   ],
   "source": [
    "import numpy as np\n",
    "arr1=np.arange(3)\n",
    "arr2=np.array([[10],[20],[30]])\n",
    "print(\"arr1 : \\n\",arr1)\n",
    "print(\"arr2 : \\n\",arr2)\n",
    "print(arr1+arr2)  # 형태가 다른 두 배열의 덧셈 연산을 수행\n",
    "print(arr1+3)    # 배열과 상수간의 연산\n",
    "print(arr2/10)\n",
    "print(arr2**2)\n",
    "print(arr1>=1)  # 배열 각 요소에 대한 논리 검사를 true, false로 반환\n",
    "print(arr2>=15)"
   ]
  },
  {
   "cell_type": "markdown",
   "metadata": {},
   "source": [
    "### numpy 는 함수에도 적용이 가능하다.  다음은 제곱을 해주는 함수 my_squre() 에 배열을 인수로 전달 하는 과정"
   ]
  },
  {
   "cell_type": "code",
   "execution_count": 12,
   "metadata": {},
   "outputs": [
    {
     "name": "stdout",
     "output_type": "stream",
     "text": [
      "[  4  16  36  64 100]\n"
     ]
    }
   ],
   "source": [
    "import numpy as np\n",
    "\n",
    "def my_squre(arr):\n",
    "    \n",
    "    return arr**2\n",
    "\n",
    "arr1=np.array([2,4,6,8,10])\n",
    "print(my_squre(arr1))"
   ]
  },
  {
   "cell_type": "markdown",
   "metadata": {},
   "source": [
    "### Numpy의 다양한 메서드 : \n",
    "sum() , cumsum(누적합계), cumprod(누적곱), mean(평균), std(표준편차), var(분산), max(), min(),"
   ]
  },
  {
   "cell_type": "code",
   "execution_count": 13,
   "metadata": {},
   "outputs": [
    {
     "name": "stdout",
     "output_type": "stream",
     "text": [
      "5050\n",
      "50.5\n",
      "[   1    3    6   10   15   21   28   36   45   55   66   78   91  105\n",
      "  120  136  153  171  190  210  231  253  276  300  325  351  378  406\n",
      "  435  465  496  528  561  595  630  666  703  741  780  820  861  903\n",
      "  946  990 1035 1081 1128 1176 1225 1275 1326 1378 1431 1485 1540 1596\n",
      " 1653 1711 1770 1830 1891 1953 2016 2080 2145 2211 2278 2346 2415 2485\n",
      " 2556 2628 2701 2775 2850 2926 3003 3081 3160 3240 3321 3403 3486 3570\n",
      " 3655 3741 3828 3916 4005 4095 4186 4278 4371 4465 4560 4656 4753 4851\n",
      " 4950 5050]\n"
     ]
    }
   ],
   "source": [
    "import numpy as np\n",
    "arr1=np.linspace(1,100,100).astype(np.int)  # 1 ~  100  사이에서 100 개의 원소를 가진 배열으르 생성 + int로 형 변환 \n",
    "                                            #  linspace는  기본적으로 float 데이터로 배열을 생성한다. \n",
    "hap=arr1.sum()\n",
    "avg=arr1.mean()\n",
    "tsum=arr1.cumsum()                          # cumsum()은 누적 합계를 배열의 형태로 생성해 준다. \n",
    "print(hap); print(avg); print(tsum);"
   ]
  },
  {
   "cell_type": "markdown",
   "metadata": {},
   "source": [
    "## 배열의 indexing(선택) , slicing(범위선택)"
   ]
  },
  {
   "cell_type": "code",
   "execution_count": 14,
   "metadata": {},
   "outputs": [
    {
     "name": "stdout",
     "output_type": "stream",
     "text": [
      "1 2 3\n",
      "[ 2  3  4  5  6  7  8  9 10]\n"
     ]
    }
   ],
   "source": [
    "import numpy as np\n",
    "arr1=np.linspace(1,100,100).astype(np.int)\n",
    "\n",
    "print(arr1[0], arr1[1], arr1[2])    # 배열의 0,  1,  2  요소를 출력\n",
    "print(arr1[1:10])                   # 배열의 1 ~ 10번 요소를 출력"
   ]
  },
  {
   "cell_type": "markdown",
   "metadata": {},
   "source": [
    "### 배열의 조건 선택\n",
    "     arr[(조건식)]]                   arr[(조건식1) & (조건식2)]              arr[(조건식1) | (조건식2)]"
   ]
  },
  {
   "cell_type": "code",
   "execution_count": 15,
   "metadata": {},
   "outputs": [
    {
     "name": "stdout",
     "output_type": "stream",
     "text": [
      "[ 6  7  8  9 10]\n",
      "[ 2  4  6  8 10]\n",
      "[ 6  8 10]\n",
      "[ 2  4  6  7  8  9 10]\n",
      "[1 2 3 4 5]\n",
      "[1 3 5 7 9]\n"
     ]
    }
   ],
   "source": [
    "import numpy as np\n",
    "\n",
    "arr1=np.linspace(1,10,10).astype(np.int)\n",
    "\n",
    "print(arr1[arr1>5])        #  5보다 큰 값\n",
    "print(arr1[(arr1%2)==0])   #  2로 나눈 나머지가 0 인 값\n",
    "print(arr1[((arr1%2)==0) & (arr1>5)])    # AND 조건 : 2로 나눈 값이 0 이고, 5보다 큰 값\n",
    "print(arr1[((arr1%2)==0) | (arr1>5)])    # OR 조건 : 2로 나눈 값이 0 이거나, 5보다 큰 값\n",
    "print(arr1[~(arr1>5)])          #  5 보다 큰 값의 논리 부정(반대값)\n",
    "print(arr1[~((arr1%2)==0)])     # 2로 나눈 값이 0 인 값의 논리 부정(반대값)"
   ]
  },
  {
   "cell_type": "markdown",
   "metadata": {},
   "source": [
    "### 여려가지 형태의 배열 slicing\n",
    "  배열[start:end:step]  \n",
    "    - end는 마지막 요소의 Index로 해당 인덱스의 배열원소는 포함 되지 않는다(end-1 까지 출력 된다.)\n",
    "    - step은 증가폭\n",
    "  배열[:end]  처음부터 end-1 요소까지\n",
    "  배열[2:] 2번째 요소부터 마지막 까지\n",
    "  "
   ]
  },
  {
   "cell_type": "code",
   "execution_count": 16,
   "metadata": {},
   "outputs": [
    {
     "name": "stdout",
     "output_type": "stream",
     "text": [
      "[  0 101 102 103 104 105 106 107 108 109 110  11  12  13  14  15  16  17\n",
      "  18  19  20  21  22  23  24  25  26  27  28  29  30  31  32  33  34  35\n",
      "  36  37  38  39  40  41  42  43  44  45  46  47  48  49  50  51  52  53\n",
      "  54  55  56  57  58  59  60  61  62  63  64  65  66  67  68  69  70  71\n",
      "  72  73  74  75  76  77  78  79  80  81  82  83  84  85  86  87  88  89\n",
      "  90  91  92  93  94  95  96  97  98  99]\n",
      "[  0 102 104 106 108 110  12  14  16  18  20  22  24  26  28  30  32  34\n",
      "  36  38  40  42  44  46  48  50  52  54  56  58  60  62  64  66  68  70\n",
      "  72  74  76  78  80  82  84  86  88  90  92  94  96  98]\n",
      "[101 103 105 107 109  11  13  15  17  19  21  23  25  27  29  31  33  35\n",
      "  37  39  41  43  45  47  49  51  53  55  57  59  61  63  65  67  69  71\n",
      "  73  75  77  79  81  83  85  87  89  91  93  95  97  99]\n",
      "[ 99  97  95  93  91  89  87  85  83  81  79  77  75  73  71  69  67  65\n",
      "  63  61  59  57  55  53  51  49  47  45  43  41  39  37  35  33  31  29\n",
      "  27  25  23  21  19  17  15  13  11 109 107 105 103]\n"
     ]
    }
   ],
   "source": [
    "import numpy as np\n",
    "arr1=np.arange(100)\n",
    "# print(arr1)\n",
    "# print(arr1[0:5])\n",
    "# print(arr1[5:])\n",
    "\n",
    "# arr1[1] ~ arr1[10] 까지의 요소를 101 ~ 110 으로 변경\n",
    "arr1[1:11]=np.array([101,102,103,104,105, 106, 107, 108, 109, 110]) \n",
    "\n",
    "print(arr1)\n",
    "print(arr1[0:100:2])  # 0 2 4 ......96 98\n",
    "print(arr1[1:100:2])  # 1 3 5 ......97 99\n",
    "print(arr1[100:1:-2]) # 99 97 95....5 3  step을 음수 값을 줘서 index요소를 큰거에서 작은걸로 출력에서 작은걸로 출력"
   ]
  }
 ],
 "metadata": {
  "kernelspec": {
   "display_name": "Python 3 (ipykernel)",
   "language": "python",
   "name": "python3"
  },
  "language_info": {
   "codemirror_mode": {
    "name": "ipython",
    "version": 3
   },
   "file_extension": ".py",
   "mimetype": "text/x-python",
   "name": "python",
   "nbconvert_exporter": "python",
   "pygments_lexer": "ipython3",
   "version": "3.8.11"
  }
 },
 "nbformat": 4,
 "nbformat_minor": 4
}
