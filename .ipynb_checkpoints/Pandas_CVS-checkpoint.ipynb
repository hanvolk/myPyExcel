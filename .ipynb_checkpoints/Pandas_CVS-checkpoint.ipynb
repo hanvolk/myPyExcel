{
 "cells": [
  {
   "cell_type": "markdown",
   "metadata": {},
   "source": [
    "# Pandas\n",
    " - Pandas 에는 두개의 데이터 구조 가 있다. (Series , DataFrame)\n",
    " \n",
    " ## Series : index가 있는 1차원 구조로\n",
    " ### Series(data, [index=인덱스데이터])\n",
    "  -- 1차원 배열과 비슷  \n",
    "  \n",
    "  -- 1차원 배열과 다른점은 인덱스를 원하는 형태로 입력할 수 있다는 점\n",
    "  \n",
    "  -- data는 List, Dictionary, Numpy의 배열, pandas의 Series 등이 올수 있다. \n",
    "  "
   ]
  },
  {
   "cell_type": "code",
   "execution_count": 1,
   "metadata": {},
   "outputs": [
    {
     "name": "stdout",
     "output_type": "stream",
     "text": [
      "0    10\n",
      "1    20\n",
      "2    30\n",
      "3    40\n",
      "4    50\n",
      "dtype: int64\n",
      "on     10\n",
      "tw     20\n",
      "tr     30\n",
      "fr     40\n",
      "fiv    50\n",
      "dtype: int64\n",
      "50\n",
      "RangeIndex(start=0, stop=5, step=1)\n",
      "Index(['on', 'tw', 'tr', 'fr', 'fiv'], dtype='object')\n",
      "[10 20 30 40 50]\n"
     ]
    }
   ],
   "source": [
    "import pandas as pd\n",
    "idx=['on','tw','tr','fr','fiv']           # index 값으로 문자열로 된 리스트 'idx'를 생성\n",
    "s1=pd.Series([10,20,30,40,50])            #  10~50 의 값을 가지는 Series 'S1' 생성\n",
    "s2=pd.Series([10,20,30,40,50],index=idx)  #  s1과 동일한 값을 지니되 index 값을 idx로 지정한 Series 's2'생성\n",
    "print(s1)\n",
    "print(s2)\n",
    "print(s2['fiv'])   #  s2에서 index가 'fiv'인 값에 접근\n",
    "print(s1.index)    #  s1의 index(자동으로 생성된)\n",
    "print(s2.index)    #  s2의 index\n",
    "print(s2.values)   #  s2의 값을 리스트로 출력"
   ]
  },
  {
   "cell_type": "markdown",
   "metadata": {},
   "source": [
    "### Data로 Dictionary가 오는 경우 Dictionary의 key 가 Series의 index가 된다."
   ]
  },
  {
   "cell_type": "code",
   "execution_count": 2,
   "metadata": {},
   "outputs": [
    {
     "data": {
      "text/plain": [
       "국어    100\n",
       "영어     95\n",
       "수학     80\n",
       "dtype: int64"
      ]
     },
     "execution_count": 2,
     "metadata": {},
     "output_type": "execute_result"
    }
   ],
   "source": [
    "import pandas as pd\n",
    "data={'국어':100, '영어':95, '수학':80 }\n",
    "score=pd.Series(data)\n",
    "\n",
    "score"
   ]
  },
  {
   "cell_type": "markdown",
   "metadata": {},
   "source": [
    "### data_range(시작일, 종료일, perids=기간, freq='빈도(주기)')\n",
    " - 시작일 : 필수\n",
    " - 종료일 혹은 period 둘중 하나는 필요\n",
    " - freq : 기간의 간격(따로 검색 필요- '판다의 date_range()' ) - 기본값 'D' 는 1일 단위\n",
    "    '2D' : 2틀 간격 /  'W' : 요일의 시작일(기본은 일요일) ,  'W-MON' : 월요일을 시작으로"
   ]
  },
  {
   "cell_type": "code",
   "execution_count": 3,
   "metadata": {},
   "outputs": [],
   "source": [
    "import pandas as pd\n",
    "fq=['W-MON']\n",
    "d1=pd.date_range('2021-4-01','2021-08-1',freq='W')     # 매주 일요일\n",
    "d2=pd.date_range('2021-4-01','2021-08-1',freq='W-MON') # 매주 월요일\n",
    "d3=pd.date_range('2021-4-01','2021-08-1',freq='B')     # 업무날짜(월요일 ~ 금요일)\n",
    "d4=pd.date_range('2021-4-01','2021-08-1',freq='MS')    # 매월 첫째 날\n",
    "d5=pd.date_range('2021-4-01','2021-08-1',freq='M')     # 매월 마지막 날\n",
    "d6=pd.date_range('2021-4-01','2021-08-1',freq='BMS')   # 업무날짜 기준으로 월의 첫번째 날\n",
    "d7=pd.date_range('2021-4-01','2021-08-1',freq='BM')    # 업무날짜 기준으로 월의 마지막 날\n",
    "d8=pd.date_range('2021-1-01',periods=8,freq='QS')      # 1월 1일 부터 8분기 동안의 매 분기 시작 날\n",
    "d9=pd.date_range('2021-1-01',periods=8,freq='Q')       # 1월 1일 부터 8분기 동안의 매 분기 마지막 날\n",
    "d10=pd.date_range('2021-4-01',periods=8,freq='H')      # 4월 1일 00:00 시 부터 8시간 동안 매 시간 단위로 리스트 생성\n",
    "d11=pd.date_range('2021-4-01',periods=8,freq='30min')  # 4월 1일 00:00 시 부터 30분 단위로 8개의 요소를 리스트로 생성"
   ]
  },
  {
   "cell_type": "markdown",
   "metadata": {},
   "source": [
    "#### Series 와  date_range() 를 이용해서 10분기의 시작날짜의 Series 생성"
   ]
  },
  {
   "cell_type": "code",
   "execution_count": 4,
   "metadata": {},
   "outputs": [
    {
     "name": "stdout",
     "output_type": "stream",
     "text": [
      "1q    2021-01-01\n",
      "2q    2021-04-01\n",
      "3q    2021-07-01\n",
      "4q    2021-10-01\n",
      "5q    2022-01-01\n",
      "6q    2022-04-01\n",
      "7q    2022-07-01\n",
      "8q    2022-10-01\n",
      "9q    2023-01-01\n",
      "10q   2023-04-01\n",
      "dtype: datetime64[ns]\n",
      "4번째 분기 :  2021-10-01 00:00:00\n"
     ]
    }
   ],
   "source": [
    "import pandas as pd\n",
    "\n",
    "idx=['1q','2q','3q','4q','5q','6q','7q','8q','9q','10q']\n",
    "D_data=pd.date_range('2021-1-01',periods=len(idx),freq='QS')\n",
    "dateList=pd.Series(D_data,index=idx)\n",
    "print(dateList)\n",
    "print('4번째 분기 : ',dateList['4q'])"
   ]
  },
  {
   "cell_type": "markdown",
   "metadata": {},
   "source": [
    "### reindex : Series의 index를 다시 할당 : 안된다... 왜 안되는지 모르겠음 ㅠㅠ"
   ]
  },
  {
   "cell_type": "code",
   "execution_count": 5,
   "metadata": {},
   "outputs": [
    {
     "name": "stdout",
     "output_type": "stream",
     "text": [
      "Python    3.5\n",
      "자료구조      4.2\n",
      "알고리즘      4.0\n",
      "dtype: float64\n"
     ]
    }
   ],
   "source": [
    "import pandas as pd\n",
    "s1=pd.Series({'Python':3.5, '자료구조':4.2, '알고리즘':4.0})\n",
    "s2=s1.reindex([1,2,3])\n",
    "print(s1)"
   ]
  },
  {
   "cell_type": "markdown",
   "metadata": {},
   "source": [
    "## DataFrame : 행과 열이 있는 표 형식의 데이터\n",
    "### 생성 : pd.DataFrame(data,[index=인덱스 데이터],[columns=열 데이터])\n",
    " - index 데이터와, columns 데이터는 생략 가능 하며, 생략하면 0,1,2,3 순으로 자동 할당"
   ]
  },
  {
   "cell_type": "code",
   "execution_count": 8,
   "metadata": {},
   "outputs": [
    {
     "name": "stdout",
     "output_type": "stream",
     "text": [
      "   0  1  2\n",
      "0  1  2  3\n",
      "1  4  5  6\n",
      "2  7  8  9\n",
      "-------------\n",
      "   A  B  C\n",
      "1  1  2  3\n",
      "2  4  5  6\n",
      "3  7  8  9\n",
      "Int64Index([1, 2, 3], dtype='int64')\n",
      "Index(['A', 'B', 'C'], dtype='object')\n",
      "-------------\n",
      "A    1\n",
      "B    2\n",
      "C    3\n",
      "Name: 1, dtype: int64\n",
      "-------------\n",
      "1    1\n",
      "2    4\n",
      "3    7\n",
      "Name: A, dtype: int64\n",
      "-------------\n",
      "(3, 3)\n"
     ]
    }
   ],
   "source": [
    "import pandas as pd\n",
    "data=[[1,2,3],[4,5,6],[7,8,9]]  # 3 * 3 의 2차원 리스트 'data' 생성\n",
    "df=pd.DataFrame(data)           # 'data'리스트로 DataFrame 'df' 생성  - index와 columns는 자동으로 0,1,2로 생성\n",
    "df1=pd.DataFrame(data,index=[1,2,3], columns=['A','B','C'])   #  index와 columns 데이터를 사용해서 DataFrame 'df1' 생성\n",
    "print(df)\n",
    "print('-------------')\n",
    "print(df1)\n",
    "print(df1.index)     # df1 의 index 출력 \n",
    "print(df1.columns)   # df1의 columns 출력\n",
    "print('-------------')\n",
    "print(df1.loc[1])       # df1 에서 index가 1 인 데이터들의 \n",
    "print('-------------')\n",
    "print(df1['A'])      # df1의 index와 'A' 열 출력 --> 열 단위로 출력 된다.\n",
    "print('-------------')\n",
    "print(df1.shape)\n",
    "\n"
   ]
  },
  {
   "cell_type": "markdown",
   "metadata": {},
   "source": [
    "### Dictionary를 사용 한 DataFrame의 생성"
   ]
  },
  {
   "cell_type": "code",
   "execution_count": 11,
   "metadata": {
    "scrolled": true
   },
   "outputs": [
    {
     "name": "stdout",
     "output_type": "stream",
     "text": [
      "     연도  지사    고객수\n",
      "0  2017  한국  200.0\n",
      "1  2017  미국    NaN\n",
      "2  2018  한국  250.0\n",
      "3  2018  미국  450.0\n",
      "4  2019  한국  300.0\n",
      "5  2019  미국  500.0\n",
      "RangeIndex(start=0, stop=6, step=1)\n",
      "Index(['연도', '지사', '고객수'], dtype='object')\n",
      "[[2017 '한국' 200.0]\n",
      " [2017 '미국' nan]\n",
      " [2018 '한국' 250.0]\n",
      " [2018 '미국' 450.0]\n",
      " [2019 '한국' 300.0]\n",
      " [2019 '미국' 500.0]]\n"
     ]
    }
   ],
   "source": [
    "import numpy as np\n",
    "import pandas as pd\n",
    "\n",
    "# Dictionary 에는 '연도', '지사', '고객수'를 Key 값으로 가지는 3개의 List 데이터들이 있다. \n",
    "dic_data={'연도':[2017, 2017, 2018, 2018, 2019, 2019],\n",
    "          '지사':['한국','미국','한국','미국','한국','미국'],\n",
    "          '고객수':[200, np.nan, 250, 450, 300, 500]}\n",
    "\n",
    "# \n",
    "df=pd.DataFrame(dic_data)\n",
    "print(df)\n",
    "print(df.index)\n",
    "print(df.columns)\n",
    "print(df.values)\n"
   ]
  },
  {
   "cell_type": "markdown",
   "metadata": {},
   "source": [
    "### DataFrame 데이터의 접근법(index 와 column 활용)\n",
    "#### index : iloc 와 loc 이 있다. \n",
    "##### iloc : index위치값(0 , 1, 2, 3...) 으로 접근   /   loc : index 값 으로 접근 \n",
    "####  column : df.['열값'] "
   ]
  },
  {
   "cell_type": "code",
   "execution_count": 42,
   "metadata": {
    "scrolled": true
   },
   "outputs": [
    {
     "name": "stdout",
     "output_type": "stream",
     "text": [
      "  A-101 A-102 B-101 B-102\n",
      "A   홍길동   강호동   홍차영   최명순\n",
      "B    75    92    83    89\n",
      "C    83    76    82    75\n",
      "---------------------\n",
      "A-101    75\n",
      "A-102    92\n",
      "B-101    83\n",
      "B-102    89\n",
      "Name: B, dtype: object\n",
      "---------------------\n",
      "  A-101 A-102 B-101 B-102\n",
      "B    75    92    83    89\n",
      "C    83    76    82    75\n",
      "---------------------\n",
      "  A-101 A-102 B-101 B-102\n",
      "B    75    92    83    89\n",
      "C    83    76    82    75\n",
      "---------------------\n",
      "A-101    홍길동\n",
      "A-102    강호동\n",
      "B-101    홍차영\n",
      "B-102    최명순\n",
      "Name: A, dtype: object\n",
      "---------------------\n",
      "A    홍차영\n",
      "B     83\n",
      "C     82\n",
      "Name: B-101, dtype: object\n"
     ]
    }
   ],
   "source": [
    "import pandas as pd\n",
    "\n",
    "dic={\n",
    "    'A-101':['홍길동',75,83],\n",
    "    'A-102':['강호동',92,76],\n",
    "    'B-101':['홍차영',83,82],\n",
    "    'B-102':['최명순',89,75]\n",
    "}\n",
    "\n",
    "# 딕셔너리 dic를 가지고 index가 ['A','B','C'] 인 DataFrame df 생성\n",
    "df=pd.DataFrame(dic, index=['A','B','C'])\n",
    "\n",
    "print(df)\n",
    "print(\"---------------------\")\n",
    "\n",
    "# index가 1번째 값\n",
    "print(df.iloc[1])\n",
    "print(\"---------------------\")\n",
    "\n",
    "# indexrk 1번째에서 마지막 번까지\n",
    "print(df.iloc[1:])\n",
    "print(\"---------------------\")\n",
    "\n",
    "# indexrk 1번째에서 2번째 까지\n",
    "print(df.iloc[1:3])\n",
    "print(\"---------------------\")\n",
    "\n",
    "# index가 'A' 인 값\n",
    "print(df.loc['A'])\n",
    "print(\"---------------------\")\n",
    "\n",
    "# column이 'B-101'인 데이터\n",
    "print(df['B-101'])"
   ]
  },
  {
   "cell_type": "markdown",
   "metadata": {},
   "source": [
    "#### DataFrame 의 행 / 열 전환  :  데이터프레임.T\n"
   ]
  },
  {
   "cell_type": "code",
   "execution_count": 46,
   "metadata": {},
   "outputs": [
    {
     "name": "stdout",
     "output_type": "stream",
     "text": [
      "  A-101 A-102 B-101 B-102\n",
      "0   홍길동   강호동   홍차영   최명순\n",
      "1    75    92    83    89\n",
      "2    83    76    82    75\n",
      "         0   1   2\n",
      "A-101  홍길동  75  83\n",
      "A-102  강호동  92  76\n",
      "B-101  홍차영  83  82\n",
      "B-102  최명순  89  75\n"
     ]
    }
   ],
   "source": [
    "import pandas as pd\n",
    "\n",
    "dic={\n",
    "    'A-101':['홍길동',75,83],\n",
    "    'A-102':['강호동',92,76],\n",
    "    'B-101':['홍차영',83,82],\n",
    "    'B-102':['최명순',89,75]\n",
    "}\n",
    "\n",
    "df1=pd.DataFrame(dic)\n",
    "df2=pd.DataFrame(dic).T\n",
    "\n",
    "print(df1)\n",
    "print(df2)"
   ]
  },
  {
   "cell_type": "markdown",
   "metadata": {},
   "source": [
    "### set_index(열 이름) : DataFrame의 특정 열 이름을 index 값으로 설정\n",
    "#### df.set_index(\"연도\")  : \"연도\"를 index로 설정"
   ]
  },
  {
   "cell_type": "code",
   "execution_count": 8,
   "metadata": {},
   "outputs": [
    {
     "data": {
      "text/html": [
       "<div>\n",
       "<style scoped>\n",
       "    .dataframe tbody tr th:only-of-type {\n",
       "        vertical-align: middle;\n",
       "    }\n",
       "\n",
       "    .dataframe tbody tr th {\n",
       "        vertical-align: top;\n",
       "    }\n",
       "\n",
       "    .dataframe thead th {\n",
       "        text-align: right;\n",
       "    }\n",
       "</style>\n",
       "<table border=\"1\" class=\"dataframe\">\n",
       "  <thead>\n",
       "    <tr style=\"text-align: right;\">\n",
       "      <th></th>\n",
       "      <th>지사</th>\n",
       "      <th>고객수</th>\n",
       "    </tr>\n",
       "    <tr>\n",
       "      <th>연도</th>\n",
       "      <th></th>\n",
       "      <th></th>\n",
       "    </tr>\n",
       "  </thead>\n",
       "  <tbody>\n",
       "    <tr>\n",
       "      <th>2017</th>\n",
       "      <td>한국</td>\n",
       "      <td>200.0</td>\n",
       "    </tr>\n",
       "    <tr>\n",
       "      <th>2017</th>\n",
       "      <td>미국</td>\n",
       "      <td>NaN</td>\n",
       "    </tr>\n",
       "    <tr>\n",
       "      <th>2018</th>\n",
       "      <td>한국</td>\n",
       "      <td>250.0</td>\n",
       "    </tr>\n",
       "    <tr>\n",
       "      <th>2018</th>\n",
       "      <td>미국</td>\n",
       "      <td>450.0</td>\n",
       "    </tr>\n",
       "    <tr>\n",
       "      <th>2019</th>\n",
       "      <td>한국</td>\n",
       "      <td>300.0</td>\n",
       "    </tr>\n",
       "    <tr>\n",
       "      <th>2019</th>\n",
       "      <td>미국</td>\n",
       "      <td>500.0</td>\n",
       "    </tr>\n",
       "  </tbody>\n",
       "</table>\n",
       "</div>"
      ],
      "text/plain": [
       "      지사    고객수\n",
       "연도             \n",
       "2017  한국  200.0\n",
       "2017  미국    NaN\n",
       "2018  한국  250.0\n",
       "2018  미국  450.0\n",
       "2019  한국  300.0\n",
       "2019  미국  500.0"
      ]
     },
     "execution_count": 8,
     "metadata": {},
     "output_type": "execute_result"
    }
   ],
   "source": [
    "import numpy as np\n",
    "import pandas as pd\n",
    "\n",
    "dic_data={'연도':[2017, 2017, 2018, 2018, 2019, 2019],\n",
    "          '지사':['한국','미국','한국','미국','한국','미국'],\n",
    "          '고객수':[200, np.nan, 250, 450, 300, 500]}\n",
    "\n",
    "df1=df.set_index(\"연도\")  # \"연도\"를 index로 설정\n",
    "df1"
   ]
  },
  {
   "cell_type": "markdown",
   "metadata": {},
   "source": [
    "### reindex(new_index_data) : new_index_data 값으로 데이터프레임의 index값을 변경\n",
    "##### 새로운 DataFrame = df.reindex (new_index_data) : df의 index 값을 new_index_data 로 변경해서 '새로운 DataFrame'에 저장\n",
    "####                                 --> 이렇게 한다고 df의 index 값이 변경 되는 것은 아니다."
   ]
  },
  {
   "cell_type": "code",
   "execution_count": 9,
   "metadata": {},
   "outputs": [
    {
     "name": "stdout",
     "output_type": "stream",
     "text": [
      "RangeIndex(start=0, stop=6, step=1)\n",
      "Int64Index([4, 2, 5, 3, 1], dtype='int64')\n"
     ]
    }
   ],
   "source": [
    "import pandas as pd\n",
    "\n",
    "dic_data={'A':[10,20,30,40,50,60],\n",
    "          'B':[0.1,0.2,0.3,0.4,0.5,0.6],\n",
    "          'C':[100,200,300,400,500,600]\n",
    "         }\n",
    "\n",
    "df1=pd.DataFrame(dic_data)\n",
    "df2=df1.reindex([4,2,5,3,1])  # df1의 index 값을 변경 해서 df2에 저장, df1의 index값이 변경되는 것은 아니다\n",
    "\n",
    "print(df1.index)  # RangeIndex(start=0, stop=6, step=1)  df1의 index값이 변경 되지는 않는다\n",
    "print(df2.index)  # Int64Index([4, 2, 5, 3, 1], dtype='int64') df2의 index 값은 [4,2,5,3,1]"
   ]
  },
  {
   "cell_type": "markdown",
   "metadata": {},
   "source": [
    "## CSV 파일 읽어 오기\n",
    "### %%writefile 경로/파일명  :  주피터 노트북의 magic command 로 파일을 기록 한다. \n",
    "(제일 첫줄에 사용해야 한다)"
   ]
  },
  {
   "cell_type": "code",
   "execution_count": 10,
   "metadata": {},
   "outputs": [
    {
     "name": "stdout",
     "output_type": "stream",
     "text": [
      "Overwriting c:/myPyExcel/data/ch05/korea_rain1.csv\n"
     ]
    }
   ],
   "source": [
    "%%writefile c:/myPyExcel/data/ch05/korea_rain1.csv\n",
    "연도,봄,여름,가을,겨울\n",
    "2014,215.9,599.8,293.1,76.9\n",
    "2015,223.2,387.1,247.7,109.1\n",
    "2016,312.8,446.2,381.6,108.1\n",
    "2017,118.6,609.7,172.5,75.6\n",
    "2018,368.1,586.5,351.2,66.5\n",
    "    "
   ]
  },
  {
   "cell_type": "markdown",
   "metadata": {},
   "source": [
    "### pd.read_csv(csv_file,encoding=\"utf-8\")  :  csv 파일을 'utf-8'형식으로 읽어 들인다.\n",
    "### pd.read_csv(csv_file,index_col=열번호)  :  csv 파일을 열번호의 필드값들을 인덱스로 해서 읽어 들인다.\n",
    "### pd.read_csv(csv_file,index_col='필드명')  :  csv 파일을 열번호의 필드값들을 인덱스로 해서 읽어 들인다.\n",
    "\n",
    "#### * csv_file : 전체 경로 + 파일명(확장자포함) 되어야 한다."
   ]
  },
  {
   "cell_type": "code",
   "execution_count": 11,
   "metadata": {
    "scrolled": true
   },
   "outputs": [
    {
     "name": "stdout",
     "output_type": "stream",
     "text": [
      "          봄     여름     가을     겨울\n",
      "연도                              \n",
      "2014  215.9  599.8  293.1   76.9\n",
      "2015  223.2  387.1  247.7  109.1\n",
      "2016  312.8  446.2  381.6  108.1\n",
      "2017  118.6  609.7  172.5   75.6\n",
      "2018  368.1  586.5  351.2   66.5\n",
      "          봄     여름     가을     겨울\n",
      "연도                              \n",
      "2014  215.9  599.8  293.1   76.9\n",
      "2015  223.2  387.1  247.7  109.1\n",
      "2016  312.8  446.2  381.6  108.1\n",
      "2017  118.6  609.7  172.5   75.6\n",
      "2018  368.1  586.5  351.2   66.5\n"
     ]
    }
   ],
   "source": [
    "import pandas as pd\n",
    "\n",
    "# CSV 파일을 읽어와서, DataFrame 'df'를 생성\n",
    "df=pd.read_csv('c:/myPyExcel/data/ch05/korea_rain1.csv',encoding='utf-8')\n",
    "\n",
    "# CSV 파일 경로를 만드는 방법\n",
    "folder='c:/myPyExcel/data/ch05/'\n",
    "csv_file=folder+'korea_rain1.csv'\n",
    "\n",
    "df=pd.read_csv(csv_file,encoding='utf-8')\n",
    "df1=pd.read_csv(csv_file,encoding='utf-8',index_col=0)\n",
    "df2=pd.read_csv(csv_file,encoding='utf-8',index_col='연도')\n",
    "\n",
    "print(df1)\n",
    "print(df2)\n"
   ]
  },
  {
   "cell_type": "markdown",
   "metadata": {},
   "source": [
    "### pd.read_csv(csv_file, sep=\"구분자\") : 구분자를 기준으로 CSV 파일을 불러온다.\n"
   ]
  },
  {
   "cell_type": "code",
   "execution_count": 12,
   "metadata": {
    "scrolled": true
   },
   "outputs": [
    {
     "data": {
      "text/html": [
       "<div>\n",
       "<style scoped>\n",
       "    .dataframe tbody tr th:only-of-type {\n",
       "        vertical-align: middle;\n",
       "    }\n",
       "\n",
       "    .dataframe tbody tr th {\n",
       "        vertical-align: top;\n",
       "    }\n",
       "\n",
       "    .dataframe thead th {\n",
       "        text-align: right;\n",
       "    }\n",
       "</style>\n",
       "<table border=\"1\" class=\"dataframe\">\n",
       "  <thead>\n",
       "    <tr style=\"text-align: right;\">\n",
       "      <th></th>\n",
       "      <th>연도</th>\n",
       "      <th>봄</th>\n",
       "      <th>여름</th>\n",
       "      <th>가을</th>\n",
       "      <th>겨울</th>\n",
       "    </tr>\n",
       "  </thead>\n",
       "  <tbody>\n",
       "    <tr>\n",
       "      <th>0</th>\n",
       "      <td>2014</td>\n",
       "      <td>215.9</td>\n",
       "      <td>599.8</td>\n",
       "      <td>293.1</td>\n",
       "      <td>76.9</td>\n",
       "    </tr>\n",
       "    <tr>\n",
       "      <th>1</th>\n",
       "      <td>2015</td>\n",
       "      <td>223.2</td>\n",
       "      <td>387.1</td>\n",
       "      <td>247.7</td>\n",
       "      <td>109.1</td>\n",
       "    </tr>\n",
       "    <tr>\n",
       "      <th>2</th>\n",
       "      <td>2016</td>\n",
       "      <td>312.8</td>\n",
       "      <td>446.2</td>\n",
       "      <td>381.6</td>\n",
       "      <td>108.1</td>\n",
       "    </tr>\n",
       "    <tr>\n",
       "      <th>3</th>\n",
       "      <td>2017</td>\n",
       "      <td>118.6</td>\n",
       "      <td>609.7</td>\n",
       "      <td>172.5</td>\n",
       "      <td>75.6</td>\n",
       "    </tr>\n",
       "    <tr>\n",
       "      <th>4</th>\n",
       "      <td>2018</td>\n",
       "      <td>368.1</td>\n",
       "      <td>586.5</td>\n",
       "      <td>351.2</td>\n",
       "      <td>66.5</td>\n",
       "    </tr>\n",
       "  </tbody>\n",
       "</table>\n",
       "</div>"
      ],
      "text/plain": [
       "     연도      봄     여름     가을     겨울\n",
       "0  2014  215.9  599.8  293.1   76.9\n",
       "1  2015  223.2  387.1  247.7  109.1\n",
       "2  2016  312.8  446.2  381.6  108.1\n",
       "3  2017  118.6  609.7  172.5   75.6\n",
       "4  2018  368.1  586.5  351.2   66.5"
      ]
     },
     "execution_count": 12,
     "metadata": {},
     "output_type": "execute_result"
    }
   ],
   "source": [
    "import pandas as pd\n",
    "\n",
    "folder='c:/myPyExcel/data/ch05/'\n",
    "txt_file=folder+'korea_rain1_space.txt' # 공백 구분 파일\n",
    "tab_file=folder+'korea_rain1_tab.txt'   #  Tab 구분 파일\n",
    "\n",
    "# 공백으로 구분된 파일을 불러 오는 경우\n",
    "df=pd.read_csv(txt_file, sep=\" \",encoding='utf-8')\n",
    "\n",
    "# Tab 으로 구분된 파일을 불러 오는 경우\n",
    "#df=pd.read_csv(tab_file, sep=\"\\t\",encoding='utf-8')\n",
    "\n",
    "df\n"
   ]
  },
  {
   "cell_type": "markdown",
   "metadata": {},
   "source": [
    "#### 필드명이 없는 데이터를 csv 파일로 저장"
   ]
  },
  {
   "cell_type": "markdown",
   "metadata": {},
   "source": [
    "%%writefile c:/myPyExcel/data/ch05/korea_rain2.csv\n",
    "2014,215.9,599.8,293.1,76.9\n",
    "2015,223.2,387.1,247.7,109.1\n",
    "2016,312.8,446.2,381.6,108.1\n",
    "2017,118.6,609.7,172.5,75.6\n",
    "2018,368.1,586.5,351.2,66.5\n"
   ]
  },
  {
   "cell_type": "markdown",
   "metadata": {},
   "source": [
    "### 필드명이 없는 데이터 불러오기\n",
    "### read_csv(파일명, header=None) \n",
    "header=None 옵션으로 colmns 없이 데이터를 불러 올수 있다.\n",
    "\n",
    "### 필드명을 사용자가 직접 지정 하는 경우\n",
    "### read_csv(파일명, names=필드명데이터)\n"
   ]
  },
  {
   "cell_type": "code",
   "execution_count": 13,
   "metadata": {
    "scrolled": true
   },
   "outputs": [
    {
     "data": {
      "text/html": [
       "<div>\n",
       "<style scoped>\n",
       "    .dataframe tbody tr th:only-of-type {\n",
       "        vertical-align: middle;\n",
       "    }\n",
       "\n",
       "    .dataframe tbody tr th {\n",
       "        vertical-align: top;\n",
       "    }\n",
       "\n",
       "    .dataframe thead th {\n",
       "        text-align: right;\n",
       "    }\n",
       "</style>\n",
       "<table border=\"1\" class=\"dataframe\">\n",
       "  <thead>\n",
       "    <tr style=\"text-align: right;\">\n",
       "      <th></th>\n",
       "      <th>Year</th>\n",
       "      <th>Spring</th>\n",
       "      <th>Summer</th>\n",
       "      <th>Fall</th>\n",
       "      <th>Winter</th>\n",
       "    </tr>\n",
       "  </thead>\n",
       "  <tbody>\n",
       "    <tr>\n",
       "      <th>0</th>\n",
       "      <td>2014</td>\n",
       "      <td>215.9</td>\n",
       "      <td>599.8</td>\n",
       "      <td>293.1</td>\n",
       "      <td>76.9</td>\n",
       "    </tr>\n",
       "    <tr>\n",
       "      <th>1</th>\n",
       "      <td>2015</td>\n",
       "      <td>223.2</td>\n",
       "      <td>387.1</td>\n",
       "      <td>247.7</td>\n",
       "      <td>109.1</td>\n",
       "    </tr>\n",
       "    <tr>\n",
       "      <th>2</th>\n",
       "      <td>2016</td>\n",
       "      <td>312.8</td>\n",
       "      <td>446.2</td>\n",
       "      <td>381.6</td>\n",
       "      <td>108.1</td>\n",
       "    </tr>\n",
       "    <tr>\n",
       "      <th>3</th>\n",
       "      <td>2017</td>\n",
       "      <td>118.6</td>\n",
       "      <td>609.7</td>\n",
       "      <td>172.5</td>\n",
       "      <td>75.6</td>\n",
       "    </tr>\n",
       "    <tr>\n",
       "      <th>4</th>\n",
       "      <td>2018</td>\n",
       "      <td>368.1</td>\n",
       "      <td>586.5</td>\n",
       "      <td>351.2</td>\n",
       "      <td>66.5</td>\n",
       "    </tr>\n",
       "  </tbody>\n",
       "</table>\n",
       "</div>"
      ],
      "text/plain": [
       "   Year  Spring  Summer   Fall  Winter\n",
       "0  2014   215.9   599.8  293.1    76.9\n",
       "1  2015   223.2   387.1  247.7   109.1\n",
       "2  2016   312.8   446.2  381.6   108.1\n",
       "3  2017   118.6   609.7  172.5    75.6\n",
       "4  2018   368.1   586.5  351.2    66.5"
      ]
     },
     "execution_count": 13,
     "metadata": {},
     "output_type": "execute_result"
    }
   ],
   "source": [
    "import pandas as pd\n",
    "\n",
    "folder='c:/myPyExcel/data/ch05/'\n",
    "txt_file=folder+'korea_rain2.csv'\n",
    "\n",
    "df=pd.read_csv(txt_file) # 이렇게 읽어 들이면, 첫번째 데이터(2014년도 데이터들이 columns로 들어 오게 된다.)\n",
    "\n",
    "df1=pd.read_csv(txt_file, header=None)\n",
    "\n",
    "name_list=['Year','Spring','Summer','Fall','Winter']\n",
    "df2=pd.read_csv(txt_file, names=name_list)\n",
    "df2"
   ]
  },
  {
   "cell_type": "markdown",
   "metadata": {},
   "source": [
    "### columns 가 있는 CSV 데이터에서 column 데이터는 제외 하고 값만 불러와서\n",
    "### 사용자가 직접 Column 을 지정 하려고 할때"
   ]
  },
  {
   "cell_type": "code",
   "execution_count": 14,
   "metadata": {
    "scrolled": true
   },
   "outputs": [
    {
     "data": {
      "text/html": [
       "<div>\n",
       "<style scoped>\n",
       "    .dataframe tbody tr th:only-of-type {\n",
       "        vertical-align: middle;\n",
       "    }\n",
       "\n",
       "    .dataframe tbody tr th {\n",
       "        vertical-align: top;\n",
       "    }\n",
       "\n",
       "    .dataframe thead th {\n",
       "        text-align: right;\n",
       "    }\n",
       "</style>\n",
       "<table border=\"1\" class=\"dataframe\">\n",
       "  <thead>\n",
       "    <tr style=\"text-align: right;\">\n",
       "      <th></th>\n",
       "      <th>new_Year</th>\n",
       "      <th>new_Spring</th>\n",
       "      <th>new_Summer</th>\n",
       "      <th>new_Fall</th>\n",
       "      <th>new_Winter</th>\n",
       "    </tr>\n",
       "  </thead>\n",
       "  <tbody>\n",
       "    <tr>\n",
       "      <th>0</th>\n",
       "      <td>2014</td>\n",
       "      <td>215.9</td>\n",
       "      <td>599.8</td>\n",
       "      <td>293.1</td>\n",
       "      <td>76.9</td>\n",
       "    </tr>\n",
       "    <tr>\n",
       "      <th>1</th>\n",
       "      <td>2015</td>\n",
       "      <td>223.2</td>\n",
       "      <td>387.1</td>\n",
       "      <td>247.7</td>\n",
       "      <td>109.1</td>\n",
       "    </tr>\n",
       "    <tr>\n",
       "      <th>2</th>\n",
       "      <td>2016</td>\n",
       "      <td>312.8</td>\n",
       "      <td>446.2</td>\n",
       "      <td>381.6</td>\n",
       "      <td>108.1</td>\n",
       "    </tr>\n",
       "    <tr>\n",
       "      <th>3</th>\n",
       "      <td>2017</td>\n",
       "      <td>118.6</td>\n",
       "      <td>609.7</td>\n",
       "      <td>172.5</td>\n",
       "      <td>75.6</td>\n",
       "    </tr>\n",
       "    <tr>\n",
       "      <th>4</th>\n",
       "      <td>2018</td>\n",
       "      <td>368.1</td>\n",
       "      <td>586.5</td>\n",
       "      <td>351.2</td>\n",
       "      <td>66.5</td>\n",
       "    </tr>\n",
       "  </tbody>\n",
       "</table>\n",
       "</div>"
      ],
      "text/plain": [
       "   new_Year  new_Spring  new_Summer  new_Fall  new_Winter\n",
       "0      2014       215.9       599.8     293.1        76.9\n",
       "1      2015       223.2       387.1     247.7       109.1\n",
       "2      2016       312.8       446.2     381.6       108.1\n",
       "3      2017       118.6       609.7     172.5        75.6\n",
       "4      2018       368.1       586.5     351.2        66.5"
      ]
     },
     "execution_count": 14,
     "metadata": {},
     "output_type": "execute_result"
    }
   ],
   "source": [
    "import pandas as pd\n",
    "\n",
    "#korea_rain1.csv 파일은 [연도, 봄, 여름, 가을, 겨울] 이라는 column 데이터가 있다.\n",
    "folder='c:/myPyExcel/data/ch05/'\n",
    "txt_file=folder+'korea_rain1.csv'\n",
    "\n",
    "# 사용자가 직접 지정하고 싶은 column 데이터 들\n",
    "name_list=['new_Year','new_Spring','new_Summer','new_Fall','new_Winter']\n",
    "\n",
    "df1=pd.read_csv(txt_file)\n",
    "\n",
    "# header 값을 0 으로 주고, names 옵션에 직접 column 데이터를 지정\n",
    "df2=pd.read_csv(txt_file, header=0, names=name_list)\n",
    "\n",
    "df2"
   ]
  },
  {
   "cell_type": "markdown",
   "metadata": {},
   "source": [
    "## DataFrame 데이터를 CSV 파일로 기록\n",
    "#### df.to_csv(파일명, [encoding='인코딩 방식'],[index = ],[header = ],[sep = ])\n",
    "- encoding 방식의 경우 기본값은 'utf-8' 인데, 메모장에서 불러 올때는 상관 없지만 <br>\n",
    "- 엑셀의 경우, encoding='cp949' 로 해 줘야 한글이 안 깨진다<br>\n",
    "- index의 값을 False 로 주면, 제일 앞에 index 열 없이 데이터만 저장된다."
   ]
  },
  {
   "cell_type": "code",
   "execution_count": 15,
   "metadata": {},
   "outputs": [],
   "source": [
    "import pandas as pd\n",
    "\n",
    "df=pd.DataFrame({\n",
    "    '제품ID':['P1001','P1002','P1003','P1004'],\n",
    "    '판매가격':[5000,7000,8000,10000],\n",
    "    '판매량':[50,93,70,48]\n",
    "})\n",
    "\n",
    "df\n",
    "\n",
    "# CSV 파일 경로\n",
    "folder='c:/myPyExcel/data/ch05/'\n",
    "csv_file=folder+'product_sales1.csv'\n",
    "csv_file2=folder+'product_sales100.csv'\n",
    "\n",
    "df.to_csv(csv_file2,encoding='cp949',index=False) \n",
    "# encoding은 기본값인 'utf-8'로\n"
   ]
  },
  {
   "cell_type": "code",
   "execution_count": null,
   "metadata": {},
   "outputs": [],
   "source": []
  }
 ],
 "metadata": {
  "kernelspec": {
   "display_name": "Python 3",
   "language": "python",
   "name": "python3"
  },
  "language_info": {
   "codemirror_mode": {
    "name": "ipython",
    "version": 3
   },
   "file_extension": ".py",
   "mimetype": "text/x-python",
   "name": "python",
   "nbconvert_exporter": "python",
   "pygments_lexer": "ipython3",
   "version": "3.8.5"
  }
 },
 "nbformat": 4,
 "nbformat_minor": 4
}
